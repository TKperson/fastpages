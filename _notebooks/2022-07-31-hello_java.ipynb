{
 "cells": [
  {
   "cell_type": "markdown",
   "id": "e72d7e08-655d-4f43-8686-25e437b62e1c",
   "metadata": {},
   "source": [
    "# \"Java stuff\"\n",
    "> \"u thought i was going to put something cool? go learn more rust lang\"\n",
    "\n",
    "- toc:true\n",
    "- branch: master\n",
    "- badges: true\n",
    "- comments: true\n",
    "- author: TK\n",
    "- categories: [java]"
   ]
  },
  {
   "cell_type": "code",
   "execution_count": 3,
   "id": "29a62fe7-f676-4595-aa23-3d50ca185c5d",
   "metadata": {},
   "outputs": [],
   "source": [
    "System.out.println(\"no\");"
   ]
  }
 ],
 "metadata": {
  "kernelspec": {
   "display_name": "Java",
   "language": "java",
   "name": "java"
  },
  "language_info": {
   "codemirror_mode": "java",
   "file_extension": ".jshell",
   "mimetype": "text/x-java-source",
   "name": "Java",
   "pygments_lexer": "java",
   "version": "18.0.1.1+2"
  }
 },
 "nbformat": 4,
 "nbformat_minor": 5
}
