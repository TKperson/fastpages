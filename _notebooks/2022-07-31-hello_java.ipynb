{
 "cells": [
  {
   "cell_type": "code",
   "execution_count": 3,
   "id": "29a62fe7-f676-4595-aa23-3d50ca185c5d",
   "metadata": {},
   "outputs": [],
   "source": [
    "System.out.println(\"idk\");"
   ]
  },
  {
   "cell_type": "code",
   "execution_count": null,
   "id": "3f4dcd1c-cb32-451f-9a40-f8315a19dcda",
   "metadata": {},
   "outputs": [],
   "source": []
  }
 ],
 "metadata": {
  "kernelspec": {
   "display_name": "Java",
   "language": "java",
   "name": "java"
  },
  "language_info": {
   "codemirror_mode": "java",
   "file_extension": ".jshell",
   "mimetype": "text/x-java-source",
   "name": "Java",
   "pygments_lexer": "java",
   "version": "18.0.1.1+2"
  }
 },
 "nbformat": 4,
 "nbformat_minor": 5
}
