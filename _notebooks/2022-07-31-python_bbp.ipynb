{
 "cells": [
  {
   "cell_type": "code",
   "execution_count": 3,
   "id": "7f3c3e6a-530a-469d-81a1-34fd54e848d8",
   "metadata": {},
   "outputs": [
    {
     "name": "stdout",
     "output_type": "stream",
     "text": [
      "3.1415926535897913\n"
     ]
    }
   ],
   "source": [
    "def pi(percision):\n",
    "    \"\"\"BBP's formula\"\"\"\n",
    "    \n",
    "    estimate = 0\n",
    "    d = 1\n",
    "    for i in range(percision):\n",
    "        estimate += d * (\n",
    "            4 / (8 * i + 1)\n",
    "            - 2 / (8 * i + 4)\n",
    "            - 1 / (8 * i + 5)\n",
    "            - 1 / (8 * i + 6)\n",
    "        )\n",
    "        \n",
    "        d /= 16\n",
    "    \n",
    "    return estimate\n",
    "            \n",
    "print(pi(10))\n",
    "        \n",
    "        "
   ]
  },
  {
   "cell_type": "code",
   "execution_count": null,
   "id": "a803d843-e308-4a43-bff7-b849df84d575",
   "metadata": {},
   "outputs": [],
   "source": []
  }
 ],
 "metadata": {
  "kernelspec": {
   "display_name": "Python 3 (ipykernel)",
   "language": "python",
   "name": "python3"
  },
  "language_info": {
   "codemirror_mode": {
    "name": "ipython",
    "version": 3
   },
   "file_extension": ".py",
   "mimetype": "text/x-python",
   "name": "python",
   "nbconvert_exporter": "python",
   "pygments_lexer": "ipython3",
   "version": "3.10.5"
  }
 },
 "nbformat": 4,
 "nbformat_minor": 5
}
